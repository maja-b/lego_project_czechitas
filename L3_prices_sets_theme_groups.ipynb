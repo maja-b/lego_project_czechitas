{
 "cells": [
  {
   "cell_type": "code",
   "execution_count": 2,
   "metadata": {},
   "outputs": [
    {
     "name": "stdout",
     "output_type": "stream",
     "text": [
      "<class 'pandas.core.frame.DataFrame'>\n",
      "RangeIndex: 24505 entries, 0 to 24504\n",
      "Data columns (total 25 columns):\n",
      " #   Column             Non-Null Count  Dtype  \n",
      "---  ------             --------------  -----  \n",
      " 0   Packaging          14936 non-null  object \n",
      " 1   Num_Instructions   14936 non-null  float64\n",
      " 2   Availability       14936 non-null  object \n",
      " 3   Owned              14771 non-null  float64\n",
      " 4   Rating             14936 non-null  float64\n",
      " 5   Total_Quantity     12276 non-null  float64\n",
      " 6   Current_Price      5442 non-null   float64\n",
      " 7   set_id             24505 non-null  object \n",
      " 8   name               24505 non-null  object \n",
      " 9   year               24505 non-null  float64\n",
      " 10  agerange_min       6787 non-null   float64\n",
      " 11  bricksetURL        18457 non-null  object \n",
      " 12  thumbnailURL       17451 non-null  object \n",
      " 13  num_pieces         23126 non-null  float64\n",
      " 14  set_theme          18958 non-null  object \n",
      " 15  set_theme_group    18937 non-null  object \n",
      " 16  set_subtheme       15332 non-null  object \n",
      " 17  set_category       18958 non-null  object \n",
      " 18  minifigures        8582 non-null   float64\n",
      " 19  retail_price       7276 non-null   float64\n",
      " 20  image_url          24180 non-null  object \n",
      " 21  percent_price_dif  3612 non-null   float64\n",
      " 22  r_main_theme       22587 non-null  object \n",
      " 23  r_theme            13274 non-null  object \n",
      " 24  r_sub_theme        696 non-null    object \n",
      "dtypes: float64(11), object(14)\n",
      "memory usage: 4.7+ MB\n"
     ]
    }
   ],
   "source": [
    "import pandas as pd\n",
    "themes_sets = pd.read_csv('prices_sets_age_themes.csv')\n",
    "themes_sets.info()"
   ]
  },
  {
   "cell_type": "code",
   "execution_count": 3,
   "metadata": {},
   "outputs": [
    {
     "data": {
      "text/plain": [
       "160"
      ]
     },
     "execution_count": 3,
     "metadata": {},
     "output_type": "execute_result"
    }
   ],
   "source": [
    "themes_sets['set_theme'].nunique()"
   ]
  },
  {
   "cell_type": "code",
   "execution_count": 4,
   "metadata": {},
   "outputs": [
    {
     "data": {
      "text/plain": [
       "16"
      ]
     },
     "execution_count": 4,
     "metadata": {},
     "output_type": "execute_result"
    }
   ],
   "source": [
    "themes_sets['set_theme_group'].nunique()"
   ]
  },
  {
   "cell_type": "code",
   "execution_count": 5,
   "metadata": {},
   "outputs": [
    {
     "data": {
      "text/plain": [
       "137"
      ]
     },
     "execution_count": 5,
     "metadata": {},
     "output_type": "execute_result"
    }
   ],
   "source": [
    "themes_sets['r_main_theme'].nunique() # it would be great if we could categorize these Rebrickable main themes into the set theme groups and set themes above"
   ]
  },
  {
   "cell_type": "code",
   "execution_count": 6,
   "metadata": {},
   "outputs": [
    {
     "name": "stdout",
     "output_type": "stream",
     "text": [
      "<class 'pandas.core.frame.DataFrame'>\n",
      "Index: 12522 entries, 2 to 23459\n",
      "Data columns (total 25 columns):\n",
      " #   Column             Non-Null Count  Dtype  \n",
      "---  ------             --------------  -----  \n",
      " 0   Packaging          10339 non-null  object \n",
      " 1   Num_Instructions   10339 non-null  float64\n",
      " 2   Availability       10339 non-null  object \n",
      " 3   Owned              10239 non-null  float64\n",
      " 4   Rating             10339 non-null  float64\n",
      " 5   Total_Quantity     9217 non-null   float64\n",
      " 6   Current_Price      4229 non-null   float64\n",
      " 7   set_id             12522 non-null  object \n",
      " 8   name               12522 non-null  object \n",
      " 9   year               12522 non-null  float64\n",
      " 10  agerange_min       4594 non-null   float64\n",
      " 11  bricksetURL        12174 non-null  object \n",
      " 12  thumbnailURL       11698 non-null  object \n",
      " 13  num_pieces         12522 non-null  float64\n",
      " 14  set_theme          12522 non-null  object \n",
      " 15  set_theme_group    12510 non-null  object \n",
      " 16  set_subtheme       10170 non-null  object \n",
      " 17  set_category       12522 non-null  object \n",
      " 18  minifigures        6136 non-null   float64\n",
      " 19  retail_price       5694 non-null   float64\n",
      " 20  image_url          12522 non-null  object \n",
      " 21  percent_price_dif  2922 non-null   float64\n",
      " 22  r_main_theme       12522 non-null  object \n",
      " 23  r_theme            6253 non-null   object \n",
      " 24  r_sub_theme        185 non-null    object \n",
      "dtypes: float64(11), object(14)\n",
      "memory usage: 2.5+ MB\n"
     ]
    }
   ],
   "source": [
    "themes_sets[themes_sets['set_theme']==themes_sets['r_main_theme']].info() #in about half of the rows, the R. main theme is the same as the set theme - I can use this"
   ]
  },
  {
   "cell_type": "code",
   "execution_count": 7,
   "metadata": {},
   "outputs": [
    {
     "name": "stdout",
     "output_type": "stream",
     "text": [
      "<class 'pandas.core.frame.DataFrame'>\n",
      "Index: 434 entries, 2 to 23403\n",
      "Data columns (total 3 columns):\n",
      " #   Column           Non-Null Count  Dtype \n",
      "---  ------           --------------  ----- \n",
      " 0   set_theme        338 non-null    object\n",
      " 1   set_theme_group  333 non-null    object\n",
      " 2   r_main_theme     434 non-null    object\n",
      "dtypes: object(3)\n",
      "memory usage: 13.6+ KB\n"
     ]
    },
    {
     "name": "stderr",
     "output_type": "stream",
     "text": [
      "C:\\Users\\A\\AppData\\Local\\Temp\\ipykernel_13592\\2306565051.py:2: SettingWithCopyWarning: \n",
      "A value is trying to be set on a copy of a slice from a DataFrame\n",
      "\n",
      "See the caveats in the documentation: https://pandas.pydata.org/pandas-docs/stable/user_guide/indexing.html#returning-a-view-versus-a-copy\n",
      "  themes.dropna(subset=['r_main_theme'],inplace=True)\n",
      "C:\\Users\\A\\AppData\\Local\\Temp\\ipykernel_13592\\2306565051.py:3: SettingWithCopyWarning: \n",
      "A value is trying to be set on a copy of a slice from a DataFrame\n",
      "\n",
      "See the caveats in the documentation: https://pandas.pydata.org/pandas-docs/stable/user_guide/indexing.html#returning-a-view-versus-a-copy\n",
      "  themes.drop_duplicates(inplace=True)\n"
     ]
    }
   ],
   "source": [
    "themes = themes_sets[['set_theme','set_theme_group','r_main_theme']]\n",
    "themes.dropna(subset=['r_main_theme'],inplace=True)\n",
    "themes.drop_duplicates(inplace=True)\n",
    "themes.info()\n",
    "#this table could be used to attribute a set theme group to a Rebrickable main theme in cases where the set theme is the same as the R. main theme"
   ]
  },
  {
   "cell_type": "code",
   "execution_count": 8,
   "metadata": {},
   "outputs": [
    {
     "data": {
      "text/html": [
       "<div>\n",
       "<style scoped>\n",
       "    .dataframe tbody tr th:only-of-type {\n",
       "        vertical-align: middle;\n",
       "    }\n",
       "\n",
       "    .dataframe tbody tr th {\n",
       "        vertical-align: top;\n",
       "    }\n",
       "\n",
       "    .dataframe thead th {\n",
       "        text-align: right;\n",
       "    }\n",
       "</style>\n",
       "<table border=\"1\" class=\"dataframe\">\n",
       "  <thead>\n",
       "    <tr style=\"text-align: right;\">\n",
       "      <th></th>\n",
       "      <th>set_theme</th>\n",
       "      <th>set_theme_group</th>\n",
       "      <th>r_main_theme</th>\n",
       "    </tr>\n",
       "  </thead>\n",
       "  <tbody>\n",
       "  </tbody>\n",
       "</table>\n",
       "</div>"
      ],
      "text/plain": [
       "Empty DataFrame\n",
       "Columns: [set_theme, set_theme_group, r_main_theme]\n",
       "Index: []"
      ]
     },
     "execution_count": 8,
     "metadata": {},
     "output_type": "execute_result"
    }
   ],
   "source": [
    "themes.groupby('set_theme').filter(lambda x: x['set_theme_group'].nunique()>1) #there is always max 1 set theme group per set theme which is what we need to always be able to attribute a set theme group to a set theme"
   ]
  },
  {
   "cell_type": "code",
   "execution_count": 9,
   "metadata": {},
   "outputs": [
    {
     "name": "stdout",
     "output_type": "stream",
     "text": [
      "<class 'pandas.core.frame.DataFrame'>\n",
      "Index: 95 entries, 2 to 19607\n",
      "Data columns (total 3 columns):\n",
      " #   Column           Non-Null Count  Dtype \n",
      "---  ------           --------------  ----- \n",
      " 0   set_theme        95 non-null     object\n",
      " 1   set_theme_group  94 non-null     object\n",
      " 2   r_main_theme     95 non-null     object\n",
      "dtypes: object(3)\n",
      "memory usage: 3.0+ KB\n"
     ]
    }
   ],
   "source": [
    "h = themes[themes['set_theme']==themes['r_main_theme']]\n",
    "#now I have a data frame with only those rows where the theme and R. main theme are the same\n",
    "h.info()"
   ]
  },
  {
   "cell_type": "code",
   "execution_count": 12,
   "metadata": {},
   "outputs": [
    {
     "name": "stdout",
     "output_type": "stream",
     "text": [
      "<class 'pandas.core.frame.DataFrame'>\n",
      "RangeIndex: 24505 entries, 0 to 24504\n",
      "Data columns (total 2 columns):\n",
      " #   Column           Non-Null Count  Dtype \n",
      "---  ------           --------------  ----- \n",
      " 0   set_theme        23095 non-null  object\n",
      " 1   set_theme_group  23058 non-null  object\n",
      "dtypes: object(2)\n",
      "memory usage: 383.0+ KB\n"
     ]
    }
   ],
   "source": [
    "sets = pd.merge(themes_sets,h,how='left',on='r_main_theme') #mergin with the data frame containing information on sets, prices and themes\n",
    "sets['set_theme_x'] = sets[['set_theme_x','set_theme_y']].bfill(axis=1).iloc[:, 0]\n",
    "sets['set_theme_group_x'] = sets[['set_theme_group_x','set_theme_group_y']].bfill(axis=1).iloc[:, 0]\n",
    "sets.drop(columns=['set_theme_y','set_theme_group_y'],inplace=True)\n",
    "sets.rename(columns={'set_theme_x':'set_theme','set_theme_group_x':'set_theme_group'},inplace=True)\n",
    "sets[['set_theme','set_theme_group']].info() # 23058 rows with a set theme group compared with the original 18937 rows - that's 4000 additional rows"
   ]
  },
  {
   "cell_type": "code",
   "execution_count": 11,
   "metadata": {},
   "outputs": [],
   "source": [
    "sets.to_csv('prices_sets_age_themesE.csv',index=False)"
   ]
  }
 ],
 "metadata": {
  "kernelspec": {
   "display_name": "Python 3",
   "language": "python",
   "name": "python3"
  },
  "language_info": {
   "codemirror_mode": {
    "name": "ipython",
    "version": 3
   },
   "file_extension": ".py",
   "mimetype": "text/x-python",
   "name": "python",
   "nbconvert_exporter": "python",
   "pygments_lexer": "ipython3",
   "version": "3.11.3"
  }
 },
 "nbformat": 4,
 "nbformat_minor": 2
}
