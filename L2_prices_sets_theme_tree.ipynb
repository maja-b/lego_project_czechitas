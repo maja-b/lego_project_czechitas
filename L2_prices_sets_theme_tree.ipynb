{
 "cells": [
  {
   "cell_type": "code",
   "execution_count": 1,
   "metadata": {},
   "outputs": [
    {
     "name": "stdout",
     "output_type": "stream",
     "text": [
      "<class 'pandas.core.frame.DataFrame'>\n",
      "RangeIndex: 24505 entries, 0 to 24504\n",
      "Data columns (total 25 columns):\n",
      " #   Column             Non-Null Count  Dtype  \n",
      "---  ------             --------------  -----  \n",
      " 0   Packaging          14936 non-null  object \n",
      " 1   Num_Instructions   14936 non-null  float64\n",
      " 2   Availability       14936 non-null  object \n",
      " 3   Owned              14771 non-null  float64\n",
      " 4   Rating             14936 non-null  float64\n",
      " 5   Total_Quantity     12276 non-null  float64\n",
      " 6   Current_Price      5442 non-null   float64\n",
      " 7   set_id             24505 non-null  object \n",
      " 8   name               24505 non-null  object \n",
      " 9   year               24505 non-null  float64\n",
      " 10  agerange_min       6787 non-null   float64\n",
      " 11  bricksetURL        18457 non-null  object \n",
      " 12  thumbnailURL       17451 non-null  object \n",
      " 13  num_pieces         23126 non-null  float64\n",
      " 14  set_theme          18958 non-null  object \n",
      " 15  set_theme_group    18937 non-null  object \n",
      " 16  set_subtheme       15332 non-null  object \n",
      " 17  set_category       18958 non-null  object \n",
      " 18  minifigures        8582 non-null   float64\n",
      " 19  retail_price       7276 non-null   float64\n",
      " 20  image_url          24180 non-null  object \n",
      " 21  percent_price_dif  3612 non-null   float64\n",
      " 22  r_main_theme       22587 non-null  object \n",
      " 23  r_theme            13274 non-null  object \n",
      " 24  r_sub_theme        696 non-null    object \n",
      "dtypes: float64(11), object(14)\n",
      "memory usage: 4.7+ MB\n"
     ]
    }
   ],
   "source": [
    "import pandas as pd\n",
    "themes = pd.read_csv('theme_tree.csv')\n",
    "prices_sets_age = pd.read_csv('prices_sets_age.csv')\n",
    "prices_sets_age_themes = pd.merge(prices_sets_age,themes,how='left',left_on='theme_id',right_on='themeId')\n",
    "prices_sets_age_themes.drop(columns=['theme_id','themeId','themeName'],inplace=True)\n",
    "prices_sets_age_themes.rename(columns={'themeGroup':'r_main_theme','theme':'r_theme','subTheme':'r_sub_theme'},inplace=True)\n",
    "prices_sets_age_themes.to_csv('prices_sets_age_themes.csv',index=False)\n",
    "prices_sets_age_themes.info()"
   ]
  }
 ],
 "metadata": {
  "kernelspec": {
   "display_name": "Python 3",
   "language": "python",
   "name": "python3"
  },
  "language_info": {
   "codemirror_mode": {
    "name": "ipython",
    "version": 3
   },
   "file_extension": ".py",
   "mimetype": "text/x-python",
   "name": "python",
   "nbconvert_exporter": "python",
   "pygments_lexer": "ipython3",
   "version": "3.11.3"
  }
 },
 "nbformat": 4,
 "nbformat_minor": 2
}
